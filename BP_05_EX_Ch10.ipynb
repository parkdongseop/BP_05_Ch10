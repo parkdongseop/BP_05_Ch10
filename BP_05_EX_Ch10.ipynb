{
  "nbformat": 4,
  "nbformat_minor": 0,
  "metadata": {
    "colab": {
      "provenance": [],
      "authorship_tag": "ABX9TyOeM/3Z9v5tP2QRY9OD02gP",
      "include_colab_link": true
    },
    "kernelspec": {
      "name": "python3",
      "display_name": "Python 3"
    },
    "language_info": {
      "name": "python"
    }
  },
  "cells": [
    {
      "cell_type": "markdown",
      "metadata": {
        "id": "view-in-github",
        "colab_type": "text"
      },
      "source": [
        "<a href=\"https://colab.research.google.com/github/parkdongseop/BP_05_Ch10/blob/main/BP_05_EX_Ch10.ipynb\" target=\"_parent\"><img src=\"https://colab.research.google.com/assets/colab-badge.svg\" alt=\"Open In Colab\"/></a>"
      ]
    },
    {
      "cell_type": "markdown",
      "source": [
        "1. 다음과 같이 하나의 레이블과 2개의 버튼을 가지는 프로그램을 작성해보자."
      ],
      "metadata": {
        "id": "Sa07ujm3oc9v"
      }
    },
    {
      "cell_type": "code",
      "source": [
        "from tkinter import *\n",
        "\n",
        "window = Tk() #tkinter를 실행함\n",
        "l = Label(window, text=\"간단한 GUI 프로그램!\") #텍스트를 만들어줌\n",
        "l.pack()#최소 크기로 화면에 표시함\n",
        "\n",
        "b1 = Button(window, text=\"환영합니다.\")#환영합니다가 적힌 버튼을 만들어줌\n",
        "b2 = Button(window, text=\"종료\")#종료가 적힌 버튼을 만들어줌\n",
        "b1.pack()#최소 크기로 화면에 표시함\n",
        "b2.pack()#최소 크기로 화면에 표시함\n",
        "\n",
        "window.mainloop()"
      ],
      "metadata": {
        "id": "rZU_TVxauApP"
      },
      "execution_count": null,
      "outputs": []
    },
    {
      "cell_type": "markdown",
      "source": [
        "2. 숫자를 입력하고 \"더하기\" 버튼을 누르면 합계에 더해지고 \"빼기\" 버튼을 누르면 합계에서 빼지는 계산기를 작성하여 본다."
      ],
      "metadata": {
        "id": "KGeLuJNptPkh"
      }
    },
    {
      "cell_type": "code",
      "source": [
        "def plus():\n",
        "    global total\n",
        "    total += int(e.get()) #e에 적은 숫자를 얻어서 int형으로 바꿔주고 total에 더해줌\n",
        "    display()#바뀐 결과를 화면에 표시해줌\n",
        "\n",
        "def minus():\n",
        "    global total\n",
        "    total -= int(e.get())#e에 적은 숫자를 얻어서 int형으로 바꿔주고 total에 빼줌\n",
        "    display()#바뀐 결과를 화면에 표시해줌\n",
        "\n",
        "def reset():\n",
        "    global total\n",
        "    total = 100\n",
        "    display()\n",
        "\n",
        "def display():\n",
        "    global l2\n",
        "    l2.destroy() #l2를 삭제함\n",
        "    l2 = Label(window,text=total)#l2를 새로 만듦\n",
        "    l2.grid(row=0,column=1) #새로 만든 l2를 원래 있던 l2의 위치인 0행 1열에 배치함\n",
        "\n",
        "\n",
        "from tkinter import *\n",
        "\n",
        "total = 100\n",
        "\n",
        "window = Tk()\n",
        "l1 = Label(window, text=\"현재 합계: \")\n",
        "l2 = Label(window, text=total)\n",
        "l1.grid(row=0,column=0) #0행 0열에 배치해줌\n",
        "l2.grid(row=0, column=1)\n",
        "\n",
        "e = Entry(window) #입력창을 만들어줌\n",
        "e.grid(row=1,column=0, columnspan=3) #1행 0열에 위치하고 열위치를 조정함\n",
        "\n",
        "b1 = Button(window, text=\"더하기(+)\", command=plus) #버튼을 누르면 plus함수를 실행\n",
        "b2 = Button(window, text=\"빼기(-)\", command=minus) #버튼을 누르면 minus함수를 실행\n",
        "b3 = Button(window, text=\"초기화\", command=reset) #버튼을 누르면 total을 100으로 만들어줌\n",
        "b1.grid(row=2, column=0)\n",
        "b2.grid(row=2, column=1)\n",
        "b3.grid(row=2, column=2)\n",
        "\n",
        "window.mainloop()"
      ],
      "metadata": {
        "id": "mXnXUQFnuR_X"
      },
      "execution_count": null,
      "outputs": []
    },
    {
      "cell_type": "markdown",
      "source": [
        "3. 우리가 앞에서 텍스트 버전으로 제작하였던 숫자 맞추기 게임을 그래픽 사용자 인터페이스 버전으로 작성해보자."
      ],
      "metadata": {
        "id": "byuf8P4_uewz"
      }
    },
    {
      "cell_type": "code",
      "source": [
        "from tkinter import*\n",
        "import random\n",
        "window=Tk()\n",
        "r=random.randint(0,100)\n",
        "total=0\n",
        "a=0\n",
        "def c1():#게임 룰 함수 정의\n",
        "b=int(e1.get())\n",
        "if b==r:\n",
        "l1[\"text\"]=\"정답입니다!\"\n",
        "elif b>r:\n",
        "l1[\"text\"]=\"너무 높아요!\"\n",
        "else:\n",
        "l1[\"text\"]=\"너무 낮아요!\"\n",
        "\n",
        "\n",
        "\n",
        "\n",
        "def c2():#초기화 함수 정의\n",
        "global r\n",
        "r=random.randint(0,100)\n",
        "return\n",
        "\n",
        "\n",
        "#-------상단 라벨 생성--------------\n",
        "l1= Label(window,text=\"즐거운 숫자 게임\")\n",
        "l1.grid(row=0,column=0)\n",
        "\n",
        "\n",
        "e1=Entry(window)\n",
        "e1.grid(row=1)\n",
        "\n",
        "\n",
        "#-------하단 버튼 생성------------\n",
        "b1=Button(window,text=\"숫자를 입력\",command=c1)\n",
        "b2=Button(window,text=\"게임을 다시시작\",command=c2)\n",
        "b1.grid(row=2,column=0)\n",
        "b2.grid(row=2,column=1)\n",
        "\n",
        "\n",
        "window.mainloop()"
      ],
      "metadata": {
        "id": "RSXw5bh5x6hT"
      },
      "execution_count": null,
      "outputs": []
    },
    {
      "cell_type": "markdown",
      "source": [
        "4. 인치를 센티미터로 변환하는 다음과 같은 프로그램을 작성해보자."
      ],
      "metadata": {
        "id": "W6pNRR8lvY8_"
      }
    },
    {
      "cell_type": "code",
      "source": [
        "def convert():\n",
        "    inch_val = int(e.get()) #e에 입력한 문자를 int형으로 바꿔주고 inch_val에 저장함\n",
        "    cm_val = inch_val * 2.54 #inch를 cm로 바꿔 줌\n",
        "    l4.configure(text = str(cm_val)+\" 센티미터\") #l4의 텍스트를 교체함\n",
        "    \n",
        "\n",
        "from tkinter import *\n",
        "\n",
        "window = Tk()\n",
        "\n",
        "l1 = Label(window, text = \"인치를 센티미터로 변환하는 프로그램: \")\n",
        "l1.grid(row=0, column=0,columnspan=2) #columnspan을 이용해 열을 2개 차지하게 만들어줌\n",
        "\n",
        "l2 = Label(window, text = \"인치를 입력하시오:\")\n",
        "e = Entry() #입력칸을 만들어서 인치를 입력하게 만들어 줌\n",
        "l2.grid(row=1, column=0)\n",
        "e.grid(row=1, column=1)\n",
        "\n",
        "l3 = Label(window, text = \"변환결과:\")\n",
        "l4 = Label(window, text = \"0 센티미터\")\n",
        "l3.grid(row=2, column=0)\n",
        "l4.grid(row=2, column=1)\n",
        "\n",
        "b = Button(window, text=\"변환!\", command=convert) #이 버튼을 누르면 convert함수가 실행\n",
        "b.grid(row=3, column=1)\n",
        "\n",
        "window.mainloop()"
      ],
      "metadata": {
        "id": "2XL3TR7VwRrK"
      },
      "execution_count": null,
      "outputs": []
    },
    {
      "cell_type": "markdown",
      "source": [
        "5. 데이터를 입력받을 때 사용할 수 있는 다음과 같은 애플리케이션을 작성해보자."
      ],
      "metadata": {
        "id": "14awgx6ywto0"
      }
    },
    {
      "cell_type": "code",
      "source": [
        "from tkinter import*\n",
        "\n",
        "\n",
        "window=Tk()\n",
        "#-------상단 라벨 생성--------------\n",
        "l1= Label(window,text=\"이름\")\n",
        "l2= Label(window,text=\"직업\")\n",
        "l3= Label(window,text=\"국적\")\n",
        "\n",
        "\n",
        "# 격자배열을 통해 1행에 배치\n",
        "l1.grid(row=0,column=0)\n",
        "l2.grid(row=1,column=0)\n",
        "l3.grid(row=2,column=0)\n",
        "\n",
        "\n",
        "#------입력부분 생성------------\n",
        "e1=Entry(window)\n",
        "e2=Entry(window)\n",
        "e3=Entry(window)\n",
        "\n",
        "\n",
        "# 격자배열을 통해 2행에 배치\n",
        "e1.grid(row=0,column=1)\n",
        "e2.grid(row=1,column=1)\n",
        "e3.grid(row=2,column=1)\n",
        "\n",
        "\n",
        "#-------하단 버튼 생성------------\n",
        "b1=Button(window,text=\"Show\")\n",
        "b2=Button(window,text=\"Quit\")\n",
        "\n",
        "\n",
        "# 격자배열을 통해 3열에 배치\n",
        "b1.grid(row=3,column=0)\n",
        "b2.grid(row=3,column=1)\n",
        "\n",
        "\n",
        "window.mainloop()"
      ],
      "metadata": {
        "id": "wAf9f7_9xCO5"
      },
      "execution_count": null,
      "outputs": []
    },
    {
      "cell_type": "markdown",
      "source": [
        "6. 가위, 바위, 보 게임을 GUI 버전으로 작성해보자. 사용자의 선택은 왼쪽에 이미지로 표시한다. 컴퓨터의 선택은 오른쪽에 이미지로 표시한다. 사용자는 버튼을 눌러서 가위, 바위, 보 중에서 하나를 선택할 수 있다. 사용자의 선택이 끝나면 결과를 화면에 텍스트로 표시한다."
      ],
      "metadata": {
        "id": "lxFygm4UyJyP"
      }
    },
    {
      "cell_type": "code",
      "source": [
        "from tkinter import *\n",
        "import random\n",
        "\n",
        "def change_image(x):\n",
        "    y = random.randint(1,3)\n",
        "    change1(x) #change1 함수를 통해 사용자가 선택한 것으로 사진을 바꿔 줌\n",
        "    change2(y) #change2 함수를 통해 랜덤으로 돌린 숫자로 사진을 바꿔 줌\n",
        "    game(x,y) #결과값을 보여주는 함수\n",
        "\n",
        "def change1(x): #사용자 사진 교체\n",
        "    photo1 = PhotoImage(file=A[x])\n",
        "    label1.configure(image=photo1)\n",
        "    label1.image = photo1\n",
        "\n",
        "def change2(x): #컴퓨터 사진 교체\n",
        "    photo2 = PhotoImage(file=A[x])\n",
        "    label3.configure(image=photo2)\n",
        "    label3.image = photo2\n",
        "\n",
        "def game(x,y):\n",
        "    def win(): #사용자가 가위바위보를 이겼을 경우\n",
        "        label2.configure(text=\">>>>>\")\n",
        "        label4.configure(text=\"사용자 승!\")\n",
        "    def lose(): #사용자가 졌을 경우\n",
        "        label2.configure(text=\"<<<<<\")\n",
        "        label4.configure(text=\"사용자 패배!\")\n",
        "    def draw(): #비겼을 경우\n",
        "        label2.configure(text=\"=====\")\n",
        "        label4.configure(text=\"비겼습니다!\")\n",
        "\n",
        "    if x==1: #사용자가 주먹을 냈을 때\n",
        "        if y==1:draw()\n",
        "        elif y==2:lose()\n",
        "        else:win()\n",
        "    elif x==2: #사용자가 가위를 냈을 때\n",
        "        if y==1:win()\n",
        "        elif y==2:draw()\n",
        "        else:lose()\n",
        "    else: #사용자가 보를 냈을 때\n",
        "        if y==1:lose()\n",
        "        elif y==2:win()\n",
        "        else:draw()\n",
        "\n",
        "window = Tk()\n",
        "font1 = (\"굴림체\",30,\"bold\") #폰트 설정\n",
        "font2 = (\"굴림체\",20,\"bold\") #폰트 설정\n",
        "A = {1:\"C:/Users/정다빈/Desktop/1.gif\",2:\"C:/Users/정다빈/Desktop/2.gif\",3:\"C:/Users/정다빈/Desktop/3.gif\"} #딕셔너리를 이용해 파일 경로를 저장해서 불러오기 편하게 해줌\n",
        "\n",
        "photo1 = PhotoImage(file=A[3]) #파일 경로를 설정하여 사진을 불러옴\n",
        "photo2 = PhotoImage(file=A[3]) #파일 경로를 설정하여 사진을 불러옴\n",
        "\n",
        "label1 = Label(window, image=photo1)\n",
        "label2 = Label(window, text = \"=====\",font=font1)\n",
        "label3 = Label(window, image=photo2)\n",
        "label1.grid(row=0, column=0)\n",
        "label2.grid(row=0, column=1, padx=50)\n",
        "label3.grid(row=0, column=2)\n",
        "\n",
        "label4 = Label(window, text = \"무승부!\",font=font2,fg=\"green\")\n",
        "label4.grid(row=1, column=1)\n",
        "\n",
        "button1 = Button(window,text=\"바위\",command=lambda: change_image(1))\n",
        "#바위 버튼을 누르면 change_image함수에 1의 값을 넣어 실행함\n",
        "button2 = Button(window,text=\"보\",command=lambda: change_image(2))\n",
        "#보 버튼을 누르면 change_image함수에 2의 값을 넣어 실행함\n",
        "button3 = Button(window,text=\"가위\",command=lambda: change_image(3))\n",
        "#가위 버튼을 누르면 change_image함수에 3의 값을 넣어 실행함\n",
        "button1.grid(row=2,column=0,ipadx=50)\n",
        "button2.grid(row=2,column=1,ipadx=50)\n",
        "button3.grid(row=2,column=2,ipadx=50)\n",
        "\n",
        "window.mainloop()"
      ],
      "metadata": {
        "id": "px7SKbGkyI5H"
      },
      "execution_count": null,
      "outputs": []
    }
  ]
}