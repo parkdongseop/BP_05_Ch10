{
  "nbformat": 4,
  "nbformat_minor": 0,
  "metadata": {
    "colab": {
      "provenance": [],
      "authorship_tag": "ABX9TyMFflbnHhyGJFhiFHeKZBW/",
      "include_colab_link": true
    },
    "kernelspec": {
      "name": "python3",
      "display_name": "Python 3"
    },
    "language_info": {
      "name": "python"
    }
  },
  "cells": [
    {
      "cell_type": "markdown",
      "metadata": {
        "id": "view-in-github",
        "colab_type": "text"
      },
      "source": [
        "<a href=\"https://colab.research.google.com/github/parkdongseop/BP_05_Ch10/blob/main/BP_05_EX_Ch10.ipynb\" target=\"_parent\"><img src=\"https://colab.research.google.com/assets/colab-badge.svg\" alt=\"Open In Colab\"/></a>"
      ]
    },
    {
      "cell_type": "markdown",
      "source": [
        "1. 다음과 같이 하나의 레이블과 2개의 버튼을 가지는 프로그램을 작성해보자."
      ],
      "metadata": {
        "id": "Sa07ujm3oc9v"
      }
    },
    {
      "cell_type": "code",
      "source": [
        "from tkinter import *\n",
        "\n",
        "window = Tk() #tkinter를 실행함\n",
        "l = Label(window, text=\"간단한 GUI 프로그램!\") #텍스트를 만들어줌\n",
        "l.pack()#최소 크기로 화면에 표시함\n",
        "\n",
        "b1 = Button(window, text=\"환영합니다.\")#환영합니다가 적힌 버튼을 만들어줌\n",
        "b2 = Button(window, text=\"종료\")#종료가 적힌 버튼을 만들어줌\n",
        "b1.pack()#최소 크기로 화면에 표시함\n",
        "b2.pack()#최소 크기로 화면에 표시함\n",
        "\n",
        "window.mainloop()"
      ],
      "metadata": {
        "id": "rZU_TVxauApP"
      },
      "execution_count": null,
      "outputs": []
    },
    {
      "cell_type": "markdown",
      "source": [
        "2. 숫자를 입력하고 \"더하기\" 버튼을 누르면 합계에 더해지고 \"빼기\" 버튼을 누르면 합계에서 빼지는 계산기를 작성하여 본다."
      ],
      "metadata": {
        "id": "KGeLuJNptPkh"
      }
    },
    {
      "cell_type": "code",
      "source": [
        "def plus():\n",
        "    global total\n",
        "    total += int(e.get()) #e에 적은 숫자를 얻어서 int형으로 바꿔주고 total에 더해줌\n",
        "    display()#바뀐 결과를 화면에 표시해줌\n",
        "\n",
        "def minus():\n",
        "    global total\n",
        "    total -= int(e.get())#e에 적은 숫자를 얻어서 int형으로 바꿔주고 total에 빼줌\n",
        "    display()#바뀐 결과를 화면에 표시해줌\n",
        "\n",
        "def reset():\n",
        "    global total\n",
        "    total = 0\n",
        "    display()\n",
        "\n",
        "def display():\n",
        "    global l2\n",
        "    l2.destroy() #l2를 삭제함\n",
        "    l2 = Label(window,text=total)#l2를 새로 만듦\n",
        "    l2.grid(row=0,column=1) #새로 만든 l2를 원래 있던 l2의 위치인 0행 1열에 배치함\n",
        "\n",
        "\n",
        "from tkinter import *\n",
        "\n",
        "total = 0\n",
        "\n",
        "window = Tk()\n",
        "l1 = Label(window, text=\"현재 합계: \")\n",
        "l2 = Label(window, text=total)\n",
        "l1.grid(row=0,column=0) #0행 0열에 배치해줌\n",
        "l2.grid(row=0, column=1)\n",
        "\n",
        "e = Entry(window) #입력창을 만들어줌\n",
        "e.grid(row=1,column=0, columnspan=3) #1행 0열에 위치하고 열위치를 조정함\n",
        "\n",
        "b1 = Button(window, text=\"더하기(+)\", command=plus) #버튼을 누르면 plus함수를 실행\n",
        "b2 = Button(window, text=\"빼기(-)\", command=minus) #버튼을 누르면 minus함수를 실행\n",
        "b3 = Button(window, text=\"초기화\", command=reset) #버튼을 누르면 total을 100으로 만들어줌\n",
        "b1.grid(row=2, column=0)\n",
        "b2.grid(row=2, column=1)\n",
        "b3.grid(row=2, column=2)\n",
        "\n",
        "window.mainloop()"
      ],
      "metadata": {
        "id": "tR-QKg5F4K-R"
      },
      "execution_count": null,
      "outputs": []
    },
    {
      "cell_type": "markdown",
      "source": [
        "3. 우리가 앞에서 텍스트 버전으로 제작하였던 숫자 맞추기 게임을 그래픽 사용자 인터페이스 버전으로 작성해보자."
      ],
      "metadata": {
        "id": "byuf8P4_uewz"
      }
    },
    {
      "cell_type": "code",
      "source": [
        "import random\n",
        "from tkinter import *\n",
        "window = Tk()\n",
        "secret_number = random.randint(1, 100)\n",
        "guess = None\n",
        "num_guesses = 0\n",
        "def guess_number():\n",
        " global num_guesses\n",
        " guess = int(entry.get())\n",
        " num_guesses += 1\n",
        " if guess == secret_number:\n",
        "     message = \"축하합니다!!\"\n",
        " elif guess < secret_number:\n",
        "     message = \"너무 낮아요!!\"\n",
        " else:\n",
        "     message = \"너무 높아요!!\"\n",
        " label['text']= message\n",
        "def reset():\n",
        " global num_guesses\n",
        " entry.delete(0, END)\n",
        " secret_number = random.randint(1, 100)\n",
        " guess = 0\n",
        " num_guesses = 0\n",
        " message = \"1부터 100사이의 숫자를 추측하시오\"\n",
        " label['text']= message\n",
        "message = \"1부터 100사이의 숫자를 추측하시오\"\n",
        "label = Label(window, text=message)\n",
        "entry = Entry(window)\n",
        "guess_button = Button(window, text=\"숫자를 입력\", command=guess_number)\n",
        "reset_button = Button(window, text=\"게임을 다시 실행\", command=reset)\n",
        "label.grid(row=0, column=0, columnspan=2, sticky=W+E)\n",
        "entry.grid(row=1, column=0, columnspan=2, sticky=W+E)\n",
        "guess_button.grid(row=2, column=0)\n",
        "reset_button.grid(row=2, column=1)\n",
        "window.mainloop()"
      ],
      "metadata": {
        "id": "Ch_FLxim9HrL"
      },
      "execution_count": null,
      "outputs": []
    },
    {
      "cell_type": "markdown",
      "source": [
        "4. 인치를 센티미터로 변환하는 다음과 같은 프로그램을 작성해보자."
      ],
      "metadata": {
        "id": "W6pNRR8lvY8_"
      }
    },
    {
      "cell_type": "code",
      "source": [
        "def convert():\n",
        "    inch_val = int(e.get()) #e에 입력한 문자를 int형으로 바꿔주고 inch_val에 저장함\n",
        "    cm_val = inch_val * 2.54 #inch를 cm로 바꿔 줌\n",
        "    l4.configure(text = str(cm_val)+\" 센티미터\") #l4의 텍스트를 교체함\n",
        "    \n",
        "\n",
        "from tkinter import *\n",
        "\n",
        "window = Tk()\n",
        "\n",
        "l1 = Label(window, text = \"인치를 센티미터로 변환하는 프로그램: \")\n",
        "l1.grid(row=0, column=0,columnspan=2) #columnspan을 이용해 열을 2개 차지하게 만들어줌\n",
        "\n",
        "l2 = Label(window, text = \"인치를 입력하시오:\")\n",
        "e = Entry() #입력칸을 만들어서 인치를 입력하게 만들어 줌\n",
        "l2.grid(row=1, column=0)\n",
        "e.grid(row=1, column=1)\n",
        "\n",
        "l3 = Label(window, text = \"변환결과:\")\n",
        "l4 = Label(window, text = \"0 센티미터\")\n",
        "l3.grid(row=2, column=0)\n",
        "l4.grid(row=2, column=1)\n",
        "\n",
        "b = Button(window, text=\"변환!\", command=convert) #이 버튼을 누르면 convert함수가 실행\n",
        "b.grid(row=3, column=1)\n",
        "\n",
        "window.mainloop()"
      ],
      "metadata": {
        "id": "2XL3TR7VwRrK"
      },
      "execution_count": null,
      "outputs": []
    },
    {
      "cell_type": "markdown",
      "source": [
        "5. 데이터를 입력받을 때 사용할 수 있는 다음과 같은 애플리케이션을 작성해보자."
      ],
      "metadata": {
        "id": "14awgx6ywto0"
      }
    },
    {
      "cell_type": "code",
      "source": [
        "from tkinter import*\n",
        "\n",
        "\n",
        "window=Tk()\n",
        "#-------상단 라벨 생성--------------\n",
        "l1= Label(window,text=\"이름\")\n",
        "l2= Label(window,text=\"직업\")\n",
        "l3= Label(window,text=\"국적\")\n",
        "\n",
        "\n",
        "# 격자배열을 통해 1행에 배치\n",
        "l1.grid(row=0,column=0)\n",
        "l2.grid(row=1,column=0)\n",
        "l3.grid(row=2,column=0)\n",
        "\n",
        "\n",
        "#------입력부분 생성------------\n",
        "e1=Entry(window)\n",
        "e2=Entry(window)\n",
        "e3=Entry(window)\n",
        "\n",
        "\n",
        "# 격자배열을 통해 2행에 배치\n",
        "e1.grid(row=0,column=1)\n",
        "e2.grid(row=1,column=1)\n",
        "e3.grid(row=2,column=1)\n",
        "\n",
        "\n",
        "#-------하단 버튼 생성------------\n",
        "b1=Button(window,text=\"Show\")\n",
        "b2=Button(window,text=\"Quit\")\n",
        "\n",
        "\n",
        "# 격자배열을 통해 3열에 배치\n",
        "b1.grid(row=3,column=0)\n",
        "b2.grid(row=3,column=1)\n",
        "\n",
        "\n",
        "window.mainloop()"
      ],
      "metadata": {
        "id": "wAf9f7_9xCO5"
      },
      "execution_count": null,
      "outputs": []
    },
    {
      "cell_type": "markdown",
      "source": [
        "6. 가위, 바위, 보 게임을 GUI 버전으로 작성해보자. 사용자의 선택은 왼쪽에 이미지로 표시한다. 컴퓨터의 선택은 오른쪽에 이미지로 표시한다. 사용자는 버튼을 눌러서 가위, 바위, 보 중에서 하나를 선택할 수 있다. 사용자의 선택이 끝나면 결과를 화면에 텍스트로 표시한다."
      ],
      "metadata": {
        "id": "lxFygm4UyJyP"
      }
    },
    {
      "cell_type": "code",
      "source": [
        "from random import *\n",
        "from tkinter import *\n",
        "# 선택 하는 부분\n",
        "def user_choice_rock():\n",
        " user_choice = \"rock\"\n",
        " turn(user_choice)\n",
        " user_image.configure(image=rock_image)\n",
        "def user_choice_paper():\n",
        " user_choice = \"paper\"\n",
        " turn(user_choice)\n",
        " user_image.configure(image=paper_image)\n",
        "def user_choice_scissors():\n",
        " user_choice = \"scissors\"\n",
        " turn(user_choice)\n",
        " user_image.configure(image=scissors_image)\n",
        "# 게임부분\n",
        "def turn(user_choice):\n",
        " oppo = ['rock', 'paper', 'scissors']\n",
        " oppo_choice=oppo[randint(0,2)]\n",
        " if(oppo_choice=='rock'):\n",
        " oppo_image.configure(image=rock_image)\n",
        " if(user_choice=='paper'):\n",
        " turn_result.configure(text=\"사용자 승!\", fg=\"green\")\n",
        " compare.configure(text=\">>>>>\")\n",
        " elif(user_choice=='scissors'):\n",
        " turn_result.configure(text=\"컴퓨터 승!\", fg=\"red\")\n",
        " compare.configure(text=\"<<<<<\")\n",
        " else:\n",
        " turn_result.configure(text=\"무승부\", fg=\"gray\")\n",
        " compare.configure(text=\"=====\")\n",
        "\n",
        " elif(oppo_choice=='paper'):\n",
        " oppo_image.configure(image=paper_image)\n",
        " if(user_choice=='scissors'):\n",
        " turn_result.configure(text=\"사용자 승!\", fg=\"green\")\n",
        " compare.configure(text=\">>>>>\")\n",
        " elif(user_choice=='rock'):\n",
        "- 7 -\n",
        " turn_result.configure(text=\"컴퓨터 승!\", fg=\"red\")\n",
        " compare.configure(text=\"<<<<<\")\n",
        " else:\n",
        " turn_result.configure(text=\"무승부\", fg=\"gray\")\n",
        " compare.configure(text=\"=====\")\n",
        "\n",
        " elif(oppo_choice=='scissors'):\n",
        " oppo_image.configure(image=scissors_image)\n",
        " if(user_choice=='rock'):\n",
        " turn_result.configure(text=\"사용자 승!\", fg=\"green\")\n",
        " compare.configure(text=\">>>>>\")\n",
        " elif(user_choice=='paper'):\n",
        " turn_result.configure(text=\"컴퓨터 승!\", fg=\"red\")\n",
        " compare.configure(text=\"<<<<<\")\n",
        " else:\n",
        " turn_result.configure(text=\"무승부\", fg=\"gray\")\n",
        " compare.configure(text=\"=====\")\n",
        "\n",
        "# 메인 프로그램\n",
        "main_window = Tk()\n",
        "rock_button = Button(main_window, width=20, text=\"바위\", justify=CENTER,\n",
        "command=user_choice_rock, activebackground='black', activeforeground='white')\n",
        "paper_button = Button(main_window, width=20, text=\"보\", justify=CENTER,\n",
        "command=user_choice_paper, activebackground='black', activeforeground='white')\n",
        "scissors_button = Button(main_window, width=20, text=\"가위\", justify=CENTER,\n",
        "command=user_choice_scissors, activebackground='black', activeforeground='white')\n",
        "rock_image = PhotoImage(file=\"d:/rock.gif\")\n",
        "paper_image = PhotoImage(file=\"d:/paper.gif\")\n",
        "scissors_image = PhotoImage(file=\"d:/scissors.gif\")\n",
        "user_image = Label(text=\"사용자\", image=rock_image)\n",
        "user_image.image = rock_image\n",
        "compare = Label(main_window, justify=CENTER, font=(\"Helvetica\", 30))\n",
        "oppo_image = Label(text=\"컴퓨터\",image=paper_image)\n",
        "oppo_image.image = paper_image\n",
        "turn_result = Label(main_window, width=20, justify=CENTER, font=(\"Helvetica\", 20))\n",
        "# 그리드 생성\n",
        "rock_button.grid(row=5, column=1)\n",
        "paper_button.grid(row=5, column=2)\n",
        "scissors_button.grid(row=5, column=3)\n",
        "user_image.grid(row=3, column=1)\n",
        "compare.grid(row=3, column=2)\n",
        "oppo_image.grid(row=3, column=3)\n",
        "turn_result.grid(row=4, column=2)\n",
        "# GUI화면 루프처리\n",
        "main_window.mainloop()\n",
        "- 8 -\n",
        "로그인하는 프로그램 만들어보기\n",
        "from tkinter import *\n",
        "window = Tk()\n",
        "label1 = Label(window, text=\"로그인 하세요!!!\", font=(\"Helvetica\", 20))\n",
        "label1.pack()\n",
        "label2 = Label(window, text=\"아이디\")\n",
        "label2.pack()\n",
        "entry1 = Entry(window)\n",
        "entry1.pack()\n",
        "label2 = Label(window, text=\"패스워드\")\n",
        "label2.pack()\n",
        "entry2 = Entry(window)\n",
        "entry2.pack()\n",
        "button1 = Button(window, text=\"로그인\")\n",
        "button1.pack()\n",
        "window.mainloop()"
      ],
      "metadata": {
        "id": "lQTb6zhljetk"
      },
      "execution_count": null,
      "outputs": []
    }
  ]
}